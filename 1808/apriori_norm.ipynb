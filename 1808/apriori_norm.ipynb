{
 "metadata": {
  "language_info": {
   "codemirror_mode": {
    "name": "ipython",
    "version": 3
   },
   "file_extension": ".py",
   "mimetype": "text/x-python",
   "name": "python",
   "nbconvert_exporter": "python",
   "pygments_lexer": "ipython3",
   "version": "3.7.0-final"
  },
  "orig_nbformat": 2,
  "kernelspec": {
   "name": "python_defaultSpec_1597742436103",
   "display_name": "Python 3.7.0 64-bit"
  }
 },
 "nbformat": 4,
 "nbformat_minor": 2,
 "cells": [
  {
   "cell_type": "code",
   "execution_count": 1,
   "metadata": {},
   "outputs": [],
   "source": [
    "import numpy as np\n",
    "import pandas as pd\n",
    "import matplotlib.pyplot as plt"
   ]
  },
  {
   "cell_type": "code",
   "execution_count": 2,
   "metadata": {},
   "outputs": [],
   "source": [
    "from sklearn.preprocessing import StandardScaler, MinMaxScaler"
   ]
  },
  {
   "cell_type": "markdown",
   "metadata": {},
   "source": [
    "# Question 1"
   ]
  },
  {
   "cell_type": "code",
   "execution_count": 13,
   "metadata": {},
   "outputs": [
    {
     "output_type": "execute_result",
     "data": {
      "text/plain": "          0      1      2     3      4     5      6\n0     vhigh  vhigh      2     2  small   low  unacc\n1     vhigh  vhigh      2     2  small   med  unacc\n2     vhigh  vhigh      2     2  small  high  unacc\n3     vhigh  vhigh      2     2    med   low  unacc\n4     vhigh  vhigh      2     2    med   med  unacc\n...     ...    ...    ...   ...    ...   ...    ...\n1723    low    low  5more  more    med   med   good\n1724    low    low  5more  more    med  high  vgood\n1725    low    low  5more  more    big   low  unacc\n1726    low    low  5more  more    big   med   good\n1727    low    low  5more  more    big  high  vgood\n\n[1728 rows x 7 columns]",
      "text/html": "<div>\n<style scoped>\n    .dataframe tbody tr th:only-of-type {\n        vertical-align: middle;\n    }\n\n    .dataframe tbody tr th {\n        vertical-align: top;\n    }\n\n    .dataframe thead th {\n        text-align: right;\n    }\n</style>\n<table border=\"1\" class=\"dataframe\">\n  <thead>\n    <tr style=\"text-align: right;\">\n      <th></th>\n      <th>0</th>\n      <th>1</th>\n      <th>2</th>\n      <th>3</th>\n      <th>4</th>\n      <th>5</th>\n      <th>6</th>\n    </tr>\n  </thead>\n  <tbody>\n    <tr>\n      <th>0</th>\n      <td>vhigh</td>\n      <td>vhigh</td>\n      <td>2</td>\n      <td>2</td>\n      <td>small</td>\n      <td>low</td>\n      <td>unacc</td>\n    </tr>\n    <tr>\n      <th>1</th>\n      <td>vhigh</td>\n      <td>vhigh</td>\n      <td>2</td>\n      <td>2</td>\n      <td>small</td>\n      <td>med</td>\n      <td>unacc</td>\n    </tr>\n    <tr>\n      <th>2</th>\n      <td>vhigh</td>\n      <td>vhigh</td>\n      <td>2</td>\n      <td>2</td>\n      <td>small</td>\n      <td>high</td>\n      <td>unacc</td>\n    </tr>\n    <tr>\n      <th>3</th>\n      <td>vhigh</td>\n      <td>vhigh</td>\n      <td>2</td>\n      <td>2</td>\n      <td>med</td>\n      <td>low</td>\n      <td>unacc</td>\n    </tr>\n    <tr>\n      <th>4</th>\n      <td>vhigh</td>\n      <td>vhigh</td>\n      <td>2</td>\n      <td>2</td>\n      <td>med</td>\n      <td>med</td>\n      <td>unacc</td>\n    </tr>\n    <tr>\n      <th>...</th>\n      <td>...</td>\n      <td>...</td>\n      <td>...</td>\n      <td>...</td>\n      <td>...</td>\n      <td>...</td>\n      <td>...</td>\n    </tr>\n    <tr>\n      <th>1723</th>\n      <td>low</td>\n      <td>low</td>\n      <td>5more</td>\n      <td>more</td>\n      <td>med</td>\n      <td>med</td>\n      <td>good</td>\n    </tr>\n    <tr>\n      <th>1724</th>\n      <td>low</td>\n      <td>low</td>\n      <td>5more</td>\n      <td>more</td>\n      <td>med</td>\n      <td>high</td>\n      <td>vgood</td>\n    </tr>\n    <tr>\n      <th>1725</th>\n      <td>low</td>\n      <td>low</td>\n      <td>5more</td>\n      <td>more</td>\n      <td>big</td>\n      <td>low</td>\n      <td>unacc</td>\n    </tr>\n    <tr>\n      <th>1726</th>\n      <td>low</td>\n      <td>low</td>\n      <td>5more</td>\n      <td>more</td>\n      <td>big</td>\n      <td>med</td>\n      <td>good</td>\n    </tr>\n    <tr>\n      <th>1727</th>\n      <td>low</td>\n      <td>low</td>\n      <td>5more</td>\n      <td>more</td>\n      <td>big</td>\n      <td>high</td>\n      <td>vgood</td>\n    </tr>\n  </tbody>\n</table>\n<p>1728 rows × 7 columns</p>\n</div>"
     },
     "metadata": {},
     "execution_count": 13
    }
   ],
   "source": [
    "data = pd.read_csv('car.data',names=['0','1','2','3','4','5','6'])\n",
    "data"
   ]
  },
  {
   "cell_type": "code",
   "execution_count": 18,
   "metadata": {
    "tags": []
   },
   "outputs": [
    {
     "output_type": "stream",
     "name": "stdout",
     "text": "\nRULES:\n"
    }
   ],
   "source": [
    "import sys\n",
    "\n",
    "from itertools import chain, combinations\n",
    "from collections import defaultdict\n",
    "from optparse import OptionParser\n",
    "\n",
    "\n",
    "def subsets(arr):\n",
    "    \"\"\" Returns non empty subsets of arr\"\"\"\n",
    "    return chain(*[combinations(arr, i + 1) for i, a in enumerate(arr)])\n",
    "\n",
    "\n",
    "def returnItemsWithMinSupport(itemSet, transactionList, minSupport, freqSet):\n",
    "        \"\"\"calculates the support for items in the itemSet and returns a subset\n",
    "       of the itemSet each of whose elements satisfies the minimum support\"\"\"\n",
    "        _itemSet = set()\n",
    "        localSet = defaultdict(int)\n",
    "\n",
    "        for item in itemSet:\n",
    "                for transaction in transactionList:\n",
    "                        if item.issubset(transaction):\n",
    "                                freqSet[item] += 1\n",
    "                                localSet[item] += 1\n",
    "\n",
    "        for item, count in localSet.items():\n",
    "                support = float(count)/len(transactionList)\n",
    "\n",
    "                if support >= minSupport:\n",
    "                        _itemSet.add(item)\n",
    "\n",
    "        return _itemSet\n",
    "\n",
    "\n",
    "def joinSet(itemSet, length):\n",
    "        \"\"\"Join a set with itself and returns the n-element itemsets\"\"\"\n",
    "        return set([i.union(j) for i in itemSet for j in itemSet if len(i.union(j)) == length])\n",
    "\n",
    "\n",
    "def getItemSetTransactionList(data_iterator):\n",
    "    transactionList = list()\n",
    "    itemSet = set()\n",
    "    for record in data_iterator:\n",
    "        transaction = frozenset(record)\n",
    "        transactionList.append(transaction)\n",
    "        for item in transaction:\n",
    "            itemSet.add(frozenset([item]))              # Generate 1-itemSets\n",
    "    return itemSet, transactionList\n",
    "\n",
    "\n",
    "def runApriori(data_iter, minSupport, minConfidence):\n",
    "    \"\"\"\n",
    "    run the apriori algorithm. data_iter is a record iterator\n",
    "    Return both:\n",
    "     - items (tuple, support)\n",
    "     - rules ((pretuple, posttuple), confidence)\n",
    "    \"\"\"\n",
    "    itemSet, transactionList = getItemSetTransactionList(data_iter)\n",
    "\n",
    "    freqSet = defaultdict(int)\n",
    "    largeSet = dict()\n",
    "    # Global dictionary which stores (key=n-itemSets,value=support)\n",
    "    # which satisfy minSupport\n",
    "\n",
    "    assocRules = dict()\n",
    "    # Dictionary which stores Association Rules\n",
    "\n",
    "    oneCSet = returnItemsWithMinSupport(itemSet,\n",
    "                                        transactionList,\n",
    "                                        minSupport,\n",
    "                                        freqSet)\n",
    "\n",
    "    currentLSet = oneCSet\n",
    "    k = 2\n",
    "    while(currentLSet != set([])):\n",
    "        largeSet[k-1] = currentLSet\n",
    "        currentLSet = joinSet(currentLSet, k)\n",
    "        currentCSet = returnItemsWithMinSupport(currentLSet,\n",
    "                                                transactionList,\n",
    "                                                minSupport,\n",
    "                                                freqSet)\n",
    "        currentLSet = currentCSet\n",
    "        k = k + 1\n",
    "\n",
    "    def getSupport(item):\n",
    "            \"\"\"local function which Returns the support of an item\"\"\"\n",
    "            return float(freqSet[item])/len(transactionList)\n",
    "\n",
    "    toRetItems = []\n",
    "    for key, value in largeSet.items():\n",
    "        toRetItems.extend([(tuple(item), getSupport(item))\n",
    "                           for item in value])\n",
    "\n",
    "    toRetRules = []\n",
    "    for key, value in list(largeSet.items())[1:]:\n",
    "        for item in value:\n",
    "            _subsets = map(frozenset, [x for x in subsets(item)])\n",
    "            for element in _subsets:\n",
    "                remain = item.difference(element)\n",
    "                if len(remain) > 0:\n",
    "                    confidence = getSupport(item)/getSupport(element)\n",
    "                    if confidence >= minConfidence:\n",
    "                        toRetRules.append(((tuple(element), tuple(remain)),\n",
    "                                           confidence))\n",
    "    return toRetItems, toRetRules\n",
    "\n",
    "\n",
    "def printResults(items, rules):\n",
    "    \"\"\"prints the generated itemsets sorted by support and the confidence rules sorted by confidence\"\"\"\n",
    "    for item, support in sorted(items, key=lambda x: x[1]):\n",
    "        print(\"item: %s , %.3f\" % (str(item), support))\n",
    "    print(\"\\nRULES:\")\n",
    "    for rule, confidence in sorted(rules, key=lambda x: x[1]):\n",
    "        pre, post = rule\n",
    "        print(\"Rule: %s ==> %s , %.3f\" % (str(pre), str(post), confidence))\n",
    "\n",
    "\n",
    "def dataFromFile(fname):\n",
    "        \"\"\"Function which reads from the file and yields a generator\"\"\"\n",
    "        with open(fname, 'rU') as file_iter:\n",
    "            for line in file_iter:\n",
    "                    line = line.strip().rstrip(',')                         # Remove trailing comma\n",
    "                    record = frozenset(line.split(','))\n",
    "                    yield record\n",
    "\n",
    "def apriori(mins=17, minc=3):\n",
    "    minSupport = mins\n",
    "    minConfidence = minc\n",
    "\n",
    "    items, rules = runApriori(data, minSupport, minConfidence)\n",
    "\n",
    "    printResults(items, rules)\n",
    "\n",
    "apriori()"
   ]
  },
  {
   "cell_type": "code",
   "execution_count": null,
   "metadata": {},
   "outputs": [],
   "source": []
  },
  {
   "cell_type": "markdown",
   "metadata": {},
   "source": [
    "# Question 2"
   ]
  },
  {
   "cell_type": "code",
   "execution_count": 3,
   "metadata": {},
   "outputs": [
    {
     "output_type": "execute_result",
     "data": {
      "text/plain": "    Product_Code  W0  W1  W2  W3  W4  W5\n0             P1  11  12  10   8  13  12\n1             P2   7   6   3   2   7   1\n2             P3   7  11   8   9  10   8\n3             P4  12   8  13   5   9   6\n4             P5   8   5  13  11   6   7\n..           ...  ..  ..  ..  ..  ..  ..\n806         P815   0   0   1   0   0   2\n807         P816   0   1   0   0   1   2\n808         P817   1   0   0   0   1   1\n809         P818   0   0   0   1   0   0\n810         P819   0   1   0   0   0   0\n\n[811 rows x 7 columns]",
      "text/html": "<div>\n<style scoped>\n    .dataframe tbody tr th:only-of-type {\n        vertical-align: middle;\n    }\n\n    .dataframe tbody tr th {\n        vertical-align: top;\n    }\n\n    .dataframe thead th {\n        text-align: right;\n    }\n</style>\n<table border=\"1\" class=\"dataframe\">\n  <thead>\n    <tr style=\"text-align: right;\">\n      <th></th>\n      <th>Product_Code</th>\n      <th>W0</th>\n      <th>W1</th>\n      <th>W2</th>\n      <th>W3</th>\n      <th>W4</th>\n      <th>W5</th>\n    </tr>\n  </thead>\n  <tbody>\n    <tr>\n      <th>0</th>\n      <td>P1</td>\n      <td>11</td>\n      <td>12</td>\n      <td>10</td>\n      <td>8</td>\n      <td>13</td>\n      <td>12</td>\n    </tr>\n    <tr>\n      <th>1</th>\n      <td>P2</td>\n      <td>7</td>\n      <td>6</td>\n      <td>3</td>\n      <td>2</td>\n      <td>7</td>\n      <td>1</td>\n    </tr>\n    <tr>\n      <th>2</th>\n      <td>P3</td>\n      <td>7</td>\n      <td>11</td>\n      <td>8</td>\n      <td>9</td>\n      <td>10</td>\n      <td>8</td>\n    </tr>\n    <tr>\n      <th>3</th>\n      <td>P4</td>\n      <td>12</td>\n      <td>8</td>\n      <td>13</td>\n      <td>5</td>\n      <td>9</td>\n      <td>6</td>\n    </tr>\n    <tr>\n      <th>4</th>\n      <td>P5</td>\n      <td>8</td>\n      <td>5</td>\n      <td>13</td>\n      <td>11</td>\n      <td>6</td>\n      <td>7</td>\n    </tr>\n    <tr>\n      <th>...</th>\n      <td>...</td>\n      <td>...</td>\n      <td>...</td>\n      <td>...</td>\n      <td>...</td>\n      <td>...</td>\n      <td>...</td>\n    </tr>\n    <tr>\n      <th>806</th>\n      <td>P815</td>\n      <td>0</td>\n      <td>0</td>\n      <td>1</td>\n      <td>0</td>\n      <td>0</td>\n      <td>2</td>\n    </tr>\n    <tr>\n      <th>807</th>\n      <td>P816</td>\n      <td>0</td>\n      <td>1</td>\n      <td>0</td>\n      <td>0</td>\n      <td>1</td>\n      <td>2</td>\n    </tr>\n    <tr>\n      <th>808</th>\n      <td>P817</td>\n      <td>1</td>\n      <td>0</td>\n      <td>0</td>\n      <td>0</td>\n      <td>1</td>\n      <td>1</td>\n    </tr>\n    <tr>\n      <th>809</th>\n      <td>P818</td>\n      <td>0</td>\n      <td>0</td>\n      <td>0</td>\n      <td>1</td>\n      <td>0</td>\n      <td>0</td>\n    </tr>\n    <tr>\n      <th>810</th>\n      <td>P819</td>\n      <td>0</td>\n      <td>1</td>\n      <td>0</td>\n      <td>0</td>\n      <td>0</td>\n      <td>0</td>\n    </tr>\n  </tbody>\n</table>\n<p>811 rows × 7 columns</p>\n</div>"
     },
     "metadata": {},
     "execution_count": 3
    }
   ],
   "source": [
    "df = pd.read_csv('Sales_Transactions_Dataset_Weekly.csv')\n",
    "df"
   ]
  },
  {
   "cell_type": "code",
   "execution_count": 4,
   "metadata": {},
   "outputs": [
    {
     "output_type": "execute_result",
     "data": {
      "text/plain": "Product_Code    False\nW0              False\nW1              False\nW2              False\nW3              False\nW4              False\nW5              False\ndtype: bool"
     },
     "metadata": {},
     "execution_count": 4
    }
   ],
   "source": [
    "df.isnull().any()"
   ]
  },
  {
   "cell_type": "code",
   "execution_count": 5,
   "metadata": {},
   "outputs": [
    {
     "output_type": "execute_result",
     "data": {
      "text/plain": "    Product_Code        W0        W1        W2        W3        W4        W5\n0             P1  0.173919  0.228600  0.046817 -0.126810  0.261727  0.197725\n1             P2 -0.157764 -0.249221 -0.490115 -0.569780 -0.196719 -0.660624\n2             P3 -0.157764  0.148963 -0.106592 -0.052982  0.032504 -0.114402\n3             P4  0.256839 -0.089947  0.276931 -0.348295 -0.043904 -0.270465\n4             P5 -0.074843 -0.328858  0.276931  0.094675 -0.273127 -0.192434\n..           ...       ...       ...       ...       ...       ...       ...\n806         P815 -0.738209 -0.727041 -0.643524 -0.717437 -0.731573 -0.582593\n807         P816 -0.738209 -0.647405 -0.720229 -0.717437 -0.655165 -0.582593\n808         P817 -0.655288 -0.727041 -0.720229 -0.717437 -0.655165 -0.660624\n809         P818 -0.738209 -0.727041 -0.720229 -0.643608 -0.731573 -0.738656\n810         P819 -0.738209 -0.647405 -0.720229 -0.717437 -0.731573 -0.738656\n\n[811 rows x 7 columns]",
      "text/html": "<div>\n<style scoped>\n    .dataframe tbody tr th:only-of-type {\n        vertical-align: middle;\n    }\n\n    .dataframe tbody tr th {\n        vertical-align: top;\n    }\n\n    .dataframe thead th {\n        text-align: right;\n    }\n</style>\n<table border=\"1\" class=\"dataframe\">\n  <thead>\n    <tr style=\"text-align: right;\">\n      <th></th>\n      <th>Product_Code</th>\n      <th>W0</th>\n      <th>W1</th>\n      <th>W2</th>\n      <th>W3</th>\n      <th>W4</th>\n      <th>W5</th>\n    </tr>\n  </thead>\n  <tbody>\n    <tr>\n      <th>0</th>\n      <td>P1</td>\n      <td>0.173919</td>\n      <td>0.228600</td>\n      <td>0.046817</td>\n      <td>-0.126810</td>\n      <td>0.261727</td>\n      <td>0.197725</td>\n    </tr>\n    <tr>\n      <th>1</th>\n      <td>P2</td>\n      <td>-0.157764</td>\n      <td>-0.249221</td>\n      <td>-0.490115</td>\n      <td>-0.569780</td>\n      <td>-0.196719</td>\n      <td>-0.660624</td>\n    </tr>\n    <tr>\n      <th>2</th>\n      <td>P3</td>\n      <td>-0.157764</td>\n      <td>0.148963</td>\n      <td>-0.106592</td>\n      <td>-0.052982</td>\n      <td>0.032504</td>\n      <td>-0.114402</td>\n    </tr>\n    <tr>\n      <th>3</th>\n      <td>P4</td>\n      <td>0.256839</td>\n      <td>-0.089947</td>\n      <td>0.276931</td>\n      <td>-0.348295</td>\n      <td>-0.043904</td>\n      <td>-0.270465</td>\n    </tr>\n    <tr>\n      <th>4</th>\n      <td>P5</td>\n      <td>-0.074843</td>\n      <td>-0.328858</td>\n      <td>0.276931</td>\n      <td>0.094675</td>\n      <td>-0.273127</td>\n      <td>-0.192434</td>\n    </tr>\n    <tr>\n      <th>...</th>\n      <td>...</td>\n      <td>...</td>\n      <td>...</td>\n      <td>...</td>\n      <td>...</td>\n      <td>...</td>\n      <td>...</td>\n    </tr>\n    <tr>\n      <th>806</th>\n      <td>P815</td>\n      <td>-0.738209</td>\n      <td>-0.727041</td>\n      <td>-0.643524</td>\n      <td>-0.717437</td>\n      <td>-0.731573</td>\n      <td>-0.582593</td>\n    </tr>\n    <tr>\n      <th>807</th>\n      <td>P816</td>\n      <td>-0.738209</td>\n      <td>-0.647405</td>\n      <td>-0.720229</td>\n      <td>-0.717437</td>\n      <td>-0.655165</td>\n      <td>-0.582593</td>\n    </tr>\n    <tr>\n      <th>808</th>\n      <td>P817</td>\n      <td>-0.655288</td>\n      <td>-0.727041</td>\n      <td>-0.720229</td>\n      <td>-0.717437</td>\n      <td>-0.655165</td>\n      <td>-0.660624</td>\n    </tr>\n    <tr>\n      <th>809</th>\n      <td>P818</td>\n      <td>-0.738209</td>\n      <td>-0.727041</td>\n      <td>-0.720229</td>\n      <td>-0.643608</td>\n      <td>-0.731573</td>\n      <td>-0.738656</td>\n    </tr>\n    <tr>\n      <th>810</th>\n      <td>P819</td>\n      <td>-0.738209</td>\n      <td>-0.647405</td>\n      <td>-0.720229</td>\n      <td>-0.717437</td>\n      <td>-0.731573</td>\n      <td>-0.738656</td>\n    </tr>\n  </tbody>\n</table>\n<p>811 rows × 7 columns</p>\n</div>"
     },
     "metadata": {},
     "execution_count": 5
    }
   ],
   "source": [
    "df2 = df.copy()\n",
    "\n",
    "zscore = StandardScaler()\n",
    "df2.iloc[:,1:] = zscore.fit_transform(df.iloc[:,1:])\n",
    "df2"
   ]
  },
  {
   "cell_type": "code",
   "execution_count": 6,
   "metadata": {},
   "outputs": [
    {
     "output_type": "execute_result",
     "data": {
      "text/plain": "    Product_Code        W0        W1        W2        W3        W4        W5\n0             P1  1.814815  1.905660  1.714286  1.542373  1.852459  1.923077\n1             P2  1.518519  1.452830  1.214286  1.135593  1.459016  1.076923\n2             P3  1.518519  1.830189  1.571429  1.610169  1.655738  1.615385\n3             P4  1.888889  1.603774  1.928571  1.338983  1.590164  1.461538\n4             P5  1.592593  1.377358  1.928571  1.745763  1.393443  1.538462\n..           ...       ...       ...       ...       ...       ...       ...\n806         P815  1.000000  1.000000  1.071429  1.000000  1.000000  1.153846\n807         P816  1.000000  1.075472  1.000000  1.000000  1.065574  1.153846\n808         P817  1.074074  1.000000  1.000000  1.000000  1.065574  1.076923\n809         P818  1.000000  1.000000  1.000000  1.067797  1.000000  1.000000\n810         P819  1.000000  1.075472  1.000000  1.000000  1.000000  1.000000\n\n[811 rows x 7 columns]",
      "text/html": "<div>\n<style scoped>\n    .dataframe tbody tr th:only-of-type {\n        vertical-align: middle;\n    }\n\n    .dataframe tbody tr th {\n        vertical-align: top;\n    }\n\n    .dataframe thead th {\n        text-align: right;\n    }\n</style>\n<table border=\"1\" class=\"dataframe\">\n  <thead>\n    <tr style=\"text-align: right;\">\n      <th></th>\n      <th>Product_Code</th>\n      <th>W0</th>\n      <th>W1</th>\n      <th>W2</th>\n      <th>W3</th>\n      <th>W4</th>\n      <th>W5</th>\n    </tr>\n  </thead>\n  <tbody>\n    <tr>\n      <th>0</th>\n      <td>P1</td>\n      <td>1.814815</td>\n      <td>1.905660</td>\n      <td>1.714286</td>\n      <td>1.542373</td>\n      <td>1.852459</td>\n      <td>1.923077</td>\n    </tr>\n    <tr>\n      <th>1</th>\n      <td>P2</td>\n      <td>1.518519</td>\n      <td>1.452830</td>\n      <td>1.214286</td>\n      <td>1.135593</td>\n      <td>1.459016</td>\n      <td>1.076923</td>\n    </tr>\n    <tr>\n      <th>2</th>\n      <td>P3</td>\n      <td>1.518519</td>\n      <td>1.830189</td>\n      <td>1.571429</td>\n      <td>1.610169</td>\n      <td>1.655738</td>\n      <td>1.615385</td>\n    </tr>\n    <tr>\n      <th>3</th>\n      <td>P4</td>\n      <td>1.888889</td>\n      <td>1.603774</td>\n      <td>1.928571</td>\n      <td>1.338983</td>\n      <td>1.590164</td>\n      <td>1.461538</td>\n    </tr>\n    <tr>\n      <th>4</th>\n      <td>P5</td>\n      <td>1.592593</td>\n      <td>1.377358</td>\n      <td>1.928571</td>\n      <td>1.745763</td>\n      <td>1.393443</td>\n      <td>1.538462</td>\n    </tr>\n    <tr>\n      <th>...</th>\n      <td>...</td>\n      <td>...</td>\n      <td>...</td>\n      <td>...</td>\n      <td>...</td>\n      <td>...</td>\n      <td>...</td>\n    </tr>\n    <tr>\n      <th>806</th>\n      <td>P815</td>\n      <td>1.000000</td>\n      <td>1.000000</td>\n      <td>1.071429</td>\n      <td>1.000000</td>\n      <td>1.000000</td>\n      <td>1.153846</td>\n    </tr>\n    <tr>\n      <th>807</th>\n      <td>P816</td>\n      <td>1.000000</td>\n      <td>1.075472</td>\n      <td>1.000000</td>\n      <td>1.000000</td>\n      <td>1.065574</td>\n      <td>1.153846</td>\n    </tr>\n    <tr>\n      <th>808</th>\n      <td>P817</td>\n      <td>1.074074</td>\n      <td>1.000000</td>\n      <td>1.000000</td>\n      <td>1.000000</td>\n      <td>1.065574</td>\n      <td>1.076923</td>\n    </tr>\n    <tr>\n      <th>809</th>\n      <td>P818</td>\n      <td>1.000000</td>\n      <td>1.000000</td>\n      <td>1.000000</td>\n      <td>1.067797</td>\n      <td>1.000000</td>\n      <td>1.000000</td>\n    </tr>\n    <tr>\n      <th>810</th>\n      <td>P819</td>\n      <td>1.000000</td>\n      <td>1.075472</td>\n      <td>1.000000</td>\n      <td>1.000000</td>\n      <td>1.000000</td>\n      <td>1.000000</td>\n    </tr>\n  </tbody>\n</table>\n<p>811 rows × 7 columns</p>\n</div>"
     },
     "metadata": {},
     "execution_count": 6
    }
   ],
   "source": [
    "df3 = df.copy()\n",
    "\n",
    "minmax = MinMaxScaler(feature_range=(1,5))\n",
    "df3.iloc[:,1:] = minmax.fit_transform(df.iloc[:,1:])\n",
    "df3"
   ]
  },
  {
   "cell_type": "code",
   "execution_count": null,
   "metadata": {},
   "outputs": [],
   "source": []
  }
 ]
}