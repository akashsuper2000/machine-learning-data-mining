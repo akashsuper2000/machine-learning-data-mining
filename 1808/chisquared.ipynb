{
 "metadata": {
  "language_info": {
   "codemirror_mode": {
    "name": "ipython",
    "version": 3
   },
   "file_extension": ".py",
   "mimetype": "text/x-python",
   "name": "python",
   "nbconvert_exporter": "python",
   "pygments_lexer": "ipython3",
   "version": "3.7.0-final"
  },
  "orig_nbformat": 2,
  "kernelspec": {
   "name": "python_defaultSpec_1597723100121",
   "display_name": "Python 3.7.0 64-bit"
  }
 },
 "nbformat": 4,
 "nbformat_minor": 2,
 "cells": [
  {
   "cell_type": "code",
   "execution_count": 1,
   "metadata": {},
   "outputs": [],
   "source": [
    "import numpy as np\n",
    "import pandas as pd"
   ]
  },
  {
   "cell_type": "code",
   "execution_count": 5,
   "metadata": {},
   "outputs": [],
   "source": [
    "a = [29,24,22,19,21,18,19,20,23,18,20,23]"
   ]
  },
  {
   "cell_type": "code",
   "execution_count": 6,
   "metadata": {},
   "outputs": [],
   "source": [
    "df = pd.DataFrame()"
   ]
  },
  {
   "cell_type": "code",
   "execution_count": 14,
   "metadata": {},
   "outputs": [
    {
     "output_type": "execute_result",
     "data": {
      "text/plain": "    obs    exp  residual   res_sq  component\n0    29  21.33      7.67  58.8289   2.758036\n1    24  21.33      2.67   7.1289   0.334219\n2    22  21.33      0.67   0.4489   0.021045\n3    19  21.33     -2.33   5.4289   0.254519\n4    21  21.33     -0.33   0.1089   0.005105\n5    18  21.33     -3.33  11.0889   0.519873\n6    19  21.33     -2.33   5.4289   0.254519\n7    20  21.33     -1.33   1.7689   0.082930\n8    23  21.33      1.67   2.7889   0.130750\n9    18  21.33     -3.33  11.0889   0.519873\n10   20  21.33     -1.33   1.7689   0.082930\n11   23  21.33      1.67   2.7889   0.130750",
      "text/html": "<div>\n<style scoped>\n    .dataframe tbody tr th:only-of-type {\n        vertical-align: middle;\n    }\n\n    .dataframe tbody tr th {\n        vertical-align: top;\n    }\n\n    .dataframe thead th {\n        text-align: right;\n    }\n</style>\n<table border=\"1\" class=\"dataframe\">\n  <thead>\n    <tr style=\"text-align: right;\">\n      <th></th>\n      <th>obs</th>\n      <th>exp</th>\n      <th>residual</th>\n      <th>res_sq</th>\n      <th>component</th>\n    </tr>\n  </thead>\n  <tbody>\n    <tr>\n      <th>0</th>\n      <td>29</td>\n      <td>21.33</td>\n      <td>7.67</td>\n      <td>58.8289</td>\n      <td>2.758036</td>\n    </tr>\n    <tr>\n      <th>1</th>\n      <td>24</td>\n      <td>21.33</td>\n      <td>2.67</td>\n      <td>7.1289</td>\n      <td>0.334219</td>\n    </tr>\n    <tr>\n      <th>2</th>\n      <td>22</td>\n      <td>21.33</td>\n      <td>0.67</td>\n      <td>0.4489</td>\n      <td>0.021045</td>\n    </tr>\n    <tr>\n      <th>3</th>\n      <td>19</td>\n      <td>21.33</td>\n      <td>-2.33</td>\n      <td>5.4289</td>\n      <td>0.254519</td>\n    </tr>\n    <tr>\n      <th>4</th>\n      <td>21</td>\n      <td>21.33</td>\n      <td>-0.33</td>\n      <td>0.1089</td>\n      <td>0.005105</td>\n    </tr>\n    <tr>\n      <th>5</th>\n      <td>18</td>\n      <td>21.33</td>\n      <td>-3.33</td>\n      <td>11.0889</td>\n      <td>0.519873</td>\n    </tr>\n    <tr>\n      <th>6</th>\n      <td>19</td>\n      <td>21.33</td>\n      <td>-2.33</td>\n      <td>5.4289</td>\n      <td>0.254519</td>\n    </tr>\n    <tr>\n      <th>7</th>\n      <td>20</td>\n      <td>21.33</td>\n      <td>-1.33</td>\n      <td>1.7689</td>\n      <td>0.082930</td>\n    </tr>\n    <tr>\n      <th>8</th>\n      <td>23</td>\n      <td>21.33</td>\n      <td>1.67</td>\n      <td>2.7889</td>\n      <td>0.130750</td>\n    </tr>\n    <tr>\n      <th>9</th>\n      <td>18</td>\n      <td>21.33</td>\n      <td>-3.33</td>\n      <td>11.0889</td>\n      <td>0.519873</td>\n    </tr>\n    <tr>\n      <th>10</th>\n      <td>20</td>\n      <td>21.33</td>\n      <td>-1.33</td>\n      <td>1.7689</td>\n      <td>0.082930</td>\n    </tr>\n    <tr>\n      <th>11</th>\n      <td>23</td>\n      <td>21.33</td>\n      <td>1.67</td>\n      <td>2.7889</td>\n      <td>0.130750</td>\n    </tr>\n  </tbody>\n</table>\n</div>"
     },
     "metadata": {},
     "execution_count": 14
    }
   ],
   "source": [
    "df['obs'] = a\n",
    "df"
   ]
  },
  {
   "cell_type": "code",
   "execution_count": 15,
   "metadata": {},
   "outputs": [
    {
     "output_type": "execute_result",
     "data": {
      "text/plain": "21.333333333333332"
     },
     "metadata": {},
     "execution_count": 15
    }
   ],
   "source": [
    "exp = df['obs'].sum()/df['obs'].count()\n",
    "exp"
   ]
  },
  {
   "cell_type": "code",
   "execution_count": 16,
   "metadata": {},
   "outputs": [
    {
     "output_type": "execute_result",
     "data": {
      "text/plain": "    obs        exp  residual   res_sq  component\n0    29  21.333333      7.67  58.8289   2.758036\n1    24  21.333333      2.67   7.1289   0.334219\n2    22  21.333333      0.67   0.4489   0.021045\n3    19  21.333333     -2.33   5.4289   0.254519\n4    21  21.333333     -0.33   0.1089   0.005105\n5    18  21.333333     -3.33  11.0889   0.519873\n6    19  21.333333     -2.33   5.4289   0.254519\n7    20  21.333333     -1.33   1.7689   0.082930\n8    23  21.333333      1.67   2.7889   0.130750\n9    18  21.333333     -3.33  11.0889   0.519873\n10   20  21.333333     -1.33   1.7689   0.082930\n11   23  21.333333      1.67   2.7889   0.130750",
      "text/html": "<div>\n<style scoped>\n    .dataframe tbody tr th:only-of-type {\n        vertical-align: middle;\n    }\n\n    .dataframe tbody tr th {\n        vertical-align: top;\n    }\n\n    .dataframe thead th {\n        text-align: right;\n    }\n</style>\n<table border=\"1\" class=\"dataframe\">\n  <thead>\n    <tr style=\"text-align: right;\">\n      <th></th>\n      <th>obs</th>\n      <th>exp</th>\n      <th>residual</th>\n      <th>res_sq</th>\n      <th>component</th>\n    </tr>\n  </thead>\n  <tbody>\n    <tr>\n      <th>0</th>\n      <td>29</td>\n      <td>21.333333</td>\n      <td>7.67</td>\n      <td>58.8289</td>\n      <td>2.758036</td>\n    </tr>\n    <tr>\n      <th>1</th>\n      <td>24</td>\n      <td>21.333333</td>\n      <td>2.67</td>\n      <td>7.1289</td>\n      <td>0.334219</td>\n    </tr>\n    <tr>\n      <th>2</th>\n      <td>22</td>\n      <td>21.333333</td>\n      <td>0.67</td>\n      <td>0.4489</td>\n      <td>0.021045</td>\n    </tr>\n    <tr>\n      <th>3</th>\n      <td>19</td>\n      <td>21.333333</td>\n      <td>-2.33</td>\n      <td>5.4289</td>\n      <td>0.254519</td>\n    </tr>\n    <tr>\n      <th>4</th>\n      <td>21</td>\n      <td>21.333333</td>\n      <td>-0.33</td>\n      <td>0.1089</td>\n      <td>0.005105</td>\n    </tr>\n    <tr>\n      <th>5</th>\n      <td>18</td>\n      <td>21.333333</td>\n      <td>-3.33</td>\n      <td>11.0889</td>\n      <td>0.519873</td>\n    </tr>\n    <tr>\n      <th>6</th>\n      <td>19</td>\n      <td>21.333333</td>\n      <td>-2.33</td>\n      <td>5.4289</td>\n      <td>0.254519</td>\n    </tr>\n    <tr>\n      <th>7</th>\n      <td>20</td>\n      <td>21.333333</td>\n      <td>-1.33</td>\n      <td>1.7689</td>\n      <td>0.082930</td>\n    </tr>\n    <tr>\n      <th>8</th>\n      <td>23</td>\n      <td>21.333333</td>\n      <td>1.67</td>\n      <td>2.7889</td>\n      <td>0.130750</td>\n    </tr>\n    <tr>\n      <th>9</th>\n      <td>18</td>\n      <td>21.333333</td>\n      <td>-3.33</td>\n      <td>11.0889</td>\n      <td>0.519873</td>\n    </tr>\n    <tr>\n      <th>10</th>\n      <td>20</td>\n      <td>21.333333</td>\n      <td>-1.33</td>\n      <td>1.7689</td>\n      <td>0.082930</td>\n    </tr>\n    <tr>\n      <th>11</th>\n      <td>23</td>\n      <td>21.333333</td>\n      <td>1.67</td>\n      <td>2.7889</td>\n      <td>0.130750</td>\n    </tr>\n  </tbody>\n</table>\n</div>"
     },
     "metadata": {},
     "execution_count": 16
    }
   ],
   "source": [
    "df['exp'] = exp\n",
    "df"
   ]
  },
  {
   "cell_type": "code",
   "execution_count": 17,
   "metadata": {},
   "outputs": [
    {
     "output_type": "execute_result",
     "data": {
      "text/plain": "    obs        exp  residual   res_sq  component\n0    29  21.333333  7.666667  58.8289   2.758036\n1    24  21.333333  2.666667   7.1289   0.334219\n2    22  21.333333  0.666667   0.4489   0.021045\n3    19  21.333333 -2.333333   5.4289   0.254519\n4    21  21.333333 -0.333333   0.1089   0.005105\n5    18  21.333333 -3.333333  11.0889   0.519873\n6    19  21.333333 -2.333333   5.4289   0.254519\n7    20  21.333333 -1.333333   1.7689   0.082930\n8    23  21.333333  1.666667   2.7889   0.130750\n9    18  21.333333 -3.333333  11.0889   0.519873\n10   20  21.333333 -1.333333   1.7689   0.082930\n11   23  21.333333  1.666667   2.7889   0.130750",
      "text/html": "<div>\n<style scoped>\n    .dataframe tbody tr th:only-of-type {\n        vertical-align: middle;\n    }\n\n    .dataframe tbody tr th {\n        vertical-align: top;\n    }\n\n    .dataframe thead th {\n        text-align: right;\n    }\n</style>\n<table border=\"1\" class=\"dataframe\">\n  <thead>\n    <tr style=\"text-align: right;\">\n      <th></th>\n      <th>obs</th>\n      <th>exp</th>\n      <th>residual</th>\n      <th>res_sq</th>\n      <th>component</th>\n    </tr>\n  </thead>\n  <tbody>\n    <tr>\n      <th>0</th>\n      <td>29</td>\n      <td>21.333333</td>\n      <td>7.666667</td>\n      <td>58.8289</td>\n      <td>2.758036</td>\n    </tr>\n    <tr>\n      <th>1</th>\n      <td>24</td>\n      <td>21.333333</td>\n      <td>2.666667</td>\n      <td>7.1289</td>\n      <td>0.334219</td>\n    </tr>\n    <tr>\n      <th>2</th>\n      <td>22</td>\n      <td>21.333333</td>\n      <td>0.666667</td>\n      <td>0.4489</td>\n      <td>0.021045</td>\n    </tr>\n    <tr>\n      <th>3</th>\n      <td>19</td>\n      <td>21.333333</td>\n      <td>-2.333333</td>\n      <td>5.4289</td>\n      <td>0.254519</td>\n    </tr>\n    <tr>\n      <th>4</th>\n      <td>21</td>\n      <td>21.333333</td>\n      <td>-0.333333</td>\n      <td>0.1089</td>\n      <td>0.005105</td>\n    </tr>\n    <tr>\n      <th>5</th>\n      <td>18</td>\n      <td>21.333333</td>\n      <td>-3.333333</td>\n      <td>11.0889</td>\n      <td>0.519873</td>\n    </tr>\n    <tr>\n      <th>6</th>\n      <td>19</td>\n      <td>21.333333</td>\n      <td>-2.333333</td>\n      <td>5.4289</td>\n      <td>0.254519</td>\n    </tr>\n    <tr>\n      <th>7</th>\n      <td>20</td>\n      <td>21.333333</td>\n      <td>-1.333333</td>\n      <td>1.7689</td>\n      <td>0.082930</td>\n    </tr>\n    <tr>\n      <th>8</th>\n      <td>23</td>\n      <td>21.333333</td>\n      <td>1.666667</td>\n      <td>2.7889</td>\n      <td>0.130750</td>\n    </tr>\n    <tr>\n      <th>9</th>\n      <td>18</td>\n      <td>21.333333</td>\n      <td>-3.333333</td>\n      <td>11.0889</td>\n      <td>0.519873</td>\n    </tr>\n    <tr>\n      <th>10</th>\n      <td>20</td>\n      <td>21.333333</td>\n      <td>-1.333333</td>\n      <td>1.7689</td>\n      <td>0.082930</td>\n    </tr>\n    <tr>\n      <th>11</th>\n      <td>23</td>\n      <td>21.333333</td>\n      <td>1.666667</td>\n      <td>2.7889</td>\n      <td>0.130750</td>\n    </tr>\n  </tbody>\n</table>\n</div>"
     },
     "metadata": {},
     "execution_count": 17
    }
   ],
   "source": [
    "df['residual'] = df['obs']-df['exp']\n",
    "df"
   ]
  },
  {
   "cell_type": "code",
   "execution_count": 18,
   "metadata": {},
   "outputs": [
    {
     "output_type": "execute_result",
     "data": {
      "text/plain": "    obs        exp  residual     res_sq  component\n0    29  21.333333  7.666667  58.777778   2.758036\n1    24  21.333333  2.666667   7.111111   0.334219\n2    22  21.333333  0.666667   0.444444   0.021045\n3    19  21.333333 -2.333333   5.444444   0.254519\n4    21  21.333333 -0.333333   0.111111   0.005105\n5    18  21.333333 -3.333333  11.111111   0.519873\n6    19  21.333333 -2.333333   5.444444   0.254519\n7    20  21.333333 -1.333333   1.777778   0.082930\n8    23  21.333333  1.666667   2.777778   0.130750\n9    18  21.333333 -3.333333  11.111111   0.519873\n10   20  21.333333 -1.333333   1.777778   0.082930\n11   23  21.333333  1.666667   2.777778   0.130750",
      "text/html": "<div>\n<style scoped>\n    .dataframe tbody tr th:only-of-type {\n        vertical-align: middle;\n    }\n\n    .dataframe tbody tr th {\n        vertical-align: top;\n    }\n\n    .dataframe thead th {\n        text-align: right;\n    }\n</style>\n<table border=\"1\" class=\"dataframe\">\n  <thead>\n    <tr style=\"text-align: right;\">\n      <th></th>\n      <th>obs</th>\n      <th>exp</th>\n      <th>residual</th>\n      <th>res_sq</th>\n      <th>component</th>\n    </tr>\n  </thead>\n  <tbody>\n    <tr>\n      <th>0</th>\n      <td>29</td>\n      <td>21.333333</td>\n      <td>7.666667</td>\n      <td>58.777778</td>\n      <td>2.758036</td>\n    </tr>\n    <tr>\n      <th>1</th>\n      <td>24</td>\n      <td>21.333333</td>\n      <td>2.666667</td>\n      <td>7.111111</td>\n      <td>0.334219</td>\n    </tr>\n    <tr>\n      <th>2</th>\n      <td>22</td>\n      <td>21.333333</td>\n      <td>0.666667</td>\n      <td>0.444444</td>\n      <td>0.021045</td>\n    </tr>\n    <tr>\n      <th>3</th>\n      <td>19</td>\n      <td>21.333333</td>\n      <td>-2.333333</td>\n      <td>5.444444</td>\n      <td>0.254519</td>\n    </tr>\n    <tr>\n      <th>4</th>\n      <td>21</td>\n      <td>21.333333</td>\n      <td>-0.333333</td>\n      <td>0.111111</td>\n      <td>0.005105</td>\n    </tr>\n    <tr>\n      <th>5</th>\n      <td>18</td>\n      <td>21.333333</td>\n      <td>-3.333333</td>\n      <td>11.111111</td>\n      <td>0.519873</td>\n    </tr>\n    <tr>\n      <th>6</th>\n      <td>19</td>\n      <td>21.333333</td>\n      <td>-2.333333</td>\n      <td>5.444444</td>\n      <td>0.254519</td>\n    </tr>\n    <tr>\n      <th>7</th>\n      <td>20</td>\n      <td>21.333333</td>\n      <td>-1.333333</td>\n      <td>1.777778</td>\n      <td>0.082930</td>\n    </tr>\n    <tr>\n      <th>8</th>\n      <td>23</td>\n      <td>21.333333</td>\n      <td>1.666667</td>\n      <td>2.777778</td>\n      <td>0.130750</td>\n    </tr>\n    <tr>\n      <th>9</th>\n      <td>18</td>\n      <td>21.333333</td>\n      <td>-3.333333</td>\n      <td>11.111111</td>\n      <td>0.519873</td>\n    </tr>\n    <tr>\n      <th>10</th>\n      <td>20</td>\n      <td>21.333333</td>\n      <td>-1.333333</td>\n      <td>1.777778</td>\n      <td>0.082930</td>\n    </tr>\n    <tr>\n      <th>11</th>\n      <td>23</td>\n      <td>21.333333</td>\n      <td>1.666667</td>\n      <td>2.777778</td>\n      <td>0.130750</td>\n    </tr>\n  </tbody>\n</table>\n</div>"
     },
     "metadata": {},
     "execution_count": 18
    }
   ],
   "source": [
    "df['res_sq'] = df['residual']**2\n",
    "df"
   ]
  },
  {
   "cell_type": "code",
   "execution_count": 19,
   "metadata": {},
   "outputs": [
    {
     "output_type": "execute_result",
     "data": {
      "text/plain": "    obs        exp  residual     res_sq  component\n0    29  21.333333  7.666667  58.777778   2.755208\n1    24  21.333333  2.666667   7.111111   0.333333\n2    22  21.333333  0.666667   0.444444   0.020833\n3    19  21.333333 -2.333333   5.444444   0.255208\n4    21  21.333333 -0.333333   0.111111   0.005208\n5    18  21.333333 -3.333333  11.111111   0.520833\n6    19  21.333333 -2.333333   5.444444   0.255208\n7    20  21.333333 -1.333333   1.777778   0.083333\n8    23  21.333333  1.666667   2.777778   0.130208\n9    18  21.333333 -3.333333  11.111111   0.520833\n10   20  21.333333 -1.333333   1.777778   0.083333\n11   23  21.333333  1.666667   2.777778   0.130208",
      "text/html": "<div>\n<style scoped>\n    .dataframe tbody tr th:only-of-type {\n        vertical-align: middle;\n    }\n\n    .dataframe tbody tr th {\n        vertical-align: top;\n    }\n\n    .dataframe thead th {\n        text-align: right;\n    }\n</style>\n<table border=\"1\" class=\"dataframe\">\n  <thead>\n    <tr style=\"text-align: right;\">\n      <th></th>\n      <th>obs</th>\n      <th>exp</th>\n      <th>residual</th>\n      <th>res_sq</th>\n      <th>component</th>\n    </tr>\n  </thead>\n  <tbody>\n    <tr>\n      <th>0</th>\n      <td>29</td>\n      <td>21.333333</td>\n      <td>7.666667</td>\n      <td>58.777778</td>\n      <td>2.755208</td>\n    </tr>\n    <tr>\n      <th>1</th>\n      <td>24</td>\n      <td>21.333333</td>\n      <td>2.666667</td>\n      <td>7.111111</td>\n      <td>0.333333</td>\n    </tr>\n    <tr>\n      <th>2</th>\n      <td>22</td>\n      <td>21.333333</td>\n      <td>0.666667</td>\n      <td>0.444444</td>\n      <td>0.020833</td>\n    </tr>\n    <tr>\n      <th>3</th>\n      <td>19</td>\n      <td>21.333333</td>\n      <td>-2.333333</td>\n      <td>5.444444</td>\n      <td>0.255208</td>\n    </tr>\n    <tr>\n      <th>4</th>\n      <td>21</td>\n      <td>21.333333</td>\n      <td>-0.333333</td>\n      <td>0.111111</td>\n      <td>0.005208</td>\n    </tr>\n    <tr>\n      <th>5</th>\n      <td>18</td>\n      <td>21.333333</td>\n      <td>-3.333333</td>\n      <td>11.111111</td>\n      <td>0.520833</td>\n    </tr>\n    <tr>\n      <th>6</th>\n      <td>19</td>\n      <td>21.333333</td>\n      <td>-2.333333</td>\n      <td>5.444444</td>\n      <td>0.255208</td>\n    </tr>\n    <tr>\n      <th>7</th>\n      <td>20</td>\n      <td>21.333333</td>\n      <td>-1.333333</td>\n      <td>1.777778</td>\n      <td>0.083333</td>\n    </tr>\n    <tr>\n      <th>8</th>\n      <td>23</td>\n      <td>21.333333</td>\n      <td>1.666667</td>\n      <td>2.777778</td>\n      <td>0.130208</td>\n    </tr>\n    <tr>\n      <th>9</th>\n      <td>18</td>\n      <td>21.333333</td>\n      <td>-3.333333</td>\n      <td>11.111111</td>\n      <td>0.520833</td>\n    </tr>\n    <tr>\n      <th>10</th>\n      <td>20</td>\n      <td>21.333333</td>\n      <td>-1.333333</td>\n      <td>1.777778</td>\n      <td>0.083333</td>\n    </tr>\n    <tr>\n      <th>11</th>\n      <td>23</td>\n      <td>21.333333</td>\n      <td>1.666667</td>\n      <td>2.777778</td>\n      <td>0.130208</td>\n    </tr>\n  </tbody>\n</table>\n</div>"
     },
     "metadata": {},
     "execution_count": 19
    }
   ],
   "source": [
    "df['component'] = df['res_sq']/df['exp']\n",
    "df"
   ]
  },
  {
   "cell_type": "code",
   "execution_count": null,
   "metadata": {},
   "outputs": [],
   "source": []
  }
 ]
}