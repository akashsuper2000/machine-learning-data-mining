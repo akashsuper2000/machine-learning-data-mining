{
 "cells": [
  {
   "cell_type": "code",
   "execution_count": 1,
   "metadata": {},
   "outputs": [],
   "source": [
    "import pandas as pd\n",
    "import numpy as np\n",
    "from scipy.cluster.hierarchy import dendrogram, linkage\n",
    "from matplotlib import pyplot as plt\n",
    "from sklearn.preprocessing import StandardScaler, normalize"
   ]
  },
  {
   "cell_type": "code",
   "execution_count": 2,
   "metadata": {},
   "outputs": [],
   "source": [
    "df=pd.read_csv('dataset.csv',sep=',',header=None)"
   ]
  },
  {
   "cell_type": "code",
   "execution_count": 3,
   "metadata": {},
   "outputs": [
    {
     "data": {
      "text/html": [
       "<div>\n",
       "<style scoped>\n",
       "    .dataframe tbody tr th:only-of-type {\n",
       "        vertical-align: middle;\n",
       "    }\n",
       "\n",
       "    .dataframe tbody tr th {\n",
       "        vertical-align: top;\n",
       "    }\n",
       "\n",
       "    .dataframe thead th {\n",
       "        text-align: right;\n",
       "    }\n",
       "</style>\n",
       "<table border=\"1\" class=\"dataframe\">\n",
       "  <thead>\n",
       "    <tr style=\"text-align: right;\">\n",
       "      <th></th>\n",
       "      <th>0</th>\n",
       "      <th>1</th>\n",
       "    </tr>\n",
       "  </thead>\n",
       "  <tbody>\n",
       "    <tr>\n",
       "      <th>0</th>\n",
       "      <td>76.954460</td>\n",
       "      <td>10.881760</td>\n",
       "    </tr>\n",
       "    <tr>\n",
       "      <th>1</th>\n",
       "      <td>76.962920</td>\n",
       "      <td>10.859130</td>\n",
       "    </tr>\n",
       "    <tr>\n",
       "      <th>2</th>\n",
       "      <td>76.968980</td>\n",
       "      <td>10.865150</td>\n",
       "    </tr>\n",
       "    <tr>\n",
       "      <th>3</th>\n",
       "      <td>76.974120</td>\n",
       "      <td>10.867120</td>\n",
       "    </tr>\n",
       "    <tr>\n",
       "      <th>4</th>\n",
       "      <td>76.973840</td>\n",
       "      <td>10.869670</td>\n",
       "    </tr>\n",
       "    <tr>\n",
       "      <th>...</th>\n",
       "      <td>...</td>\n",
       "      <td>...</td>\n",
       "    </tr>\n",
       "    <tr>\n",
       "      <th>2908</th>\n",
       "      <td>79.131900</td>\n",
       "      <td>12.921410</td>\n",
       "    </tr>\n",
       "    <tr>\n",
       "      <th>2909</th>\n",
       "      <td>79.129570</td>\n",
       "      <td>12.921030</td>\n",
       "    </tr>\n",
       "    <tr>\n",
       "      <th>2910</th>\n",
       "      <td>76.721080</td>\n",
       "      <td>8.082150</td>\n",
       "    </tr>\n",
       "    <tr>\n",
       "      <th>2911</th>\n",
       "      <td>80.320300</td>\n",
       "      <td>13.214610</td>\n",
       "    </tr>\n",
       "    <tr>\n",
       "      <th>2912</th>\n",
       "      <td>0.071984</td>\n",
       "      <td>0.102649</td>\n",
       "    </tr>\n",
       "  </tbody>\n",
       "</table>\n",
       "<p>2913 rows × 2 columns</p>\n",
       "</div>"
      ],
      "text/plain": [
       "              0          1\n",
       "0     76.954460  10.881760\n",
       "1     76.962920  10.859130\n",
       "2     76.968980  10.865150\n",
       "3     76.974120  10.867120\n",
       "4     76.973840  10.869670\n",
       "...         ...        ...\n",
       "2908  79.131900  12.921410\n",
       "2909  79.129570  12.921030\n",
       "2910  76.721080   8.082150\n",
       "2911  80.320300  13.214610\n",
       "2912   0.071984   0.102649\n",
       "\n",
       "[2913 rows x 2 columns]"
      ]
     },
     "execution_count": 3,
     "metadata": {},
     "output_type": "execute_result"
    }
   ],
   "source": [
    "df"
   ]
  },
  {
   "cell_type": "code",
   "execution_count": 4,
   "metadata": {},
   "outputs": [],
   "source": [
    "from scipy.cluster.hierarchy import single, cophenet\n",
    "from scipy.spatial.distance import pdist, squareform"
   ]
  },
  {
   "cell_type": "code",
   "execution_count": 5,
   "metadata": {},
   "outputs": [
    {
     "data": {
      "text/html": [
       "<div>\n",
       "<style scoped>\n",
       "    .dataframe tbody tr th:only-of-type {\n",
       "        vertical-align: middle;\n",
       "    }\n",
       "\n",
       "    .dataframe tbody tr th {\n",
       "        vertical-align: top;\n",
       "    }\n",
       "\n",
       "    .dataframe thead th {\n",
       "        text-align: right;\n",
       "    }\n",
       "</style>\n",
       "<table border=\"1\" class=\"dataframe\">\n",
       "  <thead>\n",
       "    <tr style=\"text-align: right;\">\n",
       "      <th></th>\n",
       "      <th>Linkage</th>\n",
       "      <th>Cophenet Coeff</th>\n",
       "    </tr>\n",
       "  </thead>\n",
       "  <tbody>\n",
       "    <tr>\n",
       "      <th>0</th>\n",
       "      <td>Single</td>\n",
       "      <td>0.902287</td>\n",
       "    </tr>\n",
       "    <tr>\n",
       "      <th>1</th>\n",
       "      <td>Complete</td>\n",
       "      <td>0.899687</td>\n",
       "    </tr>\n",
       "    <tr>\n",
       "      <th>2</th>\n",
       "      <td>Average</td>\n",
       "      <td>0.954197</td>\n",
       "    </tr>\n",
       "    <tr>\n",
       "      <th>3</th>\n",
       "      <td>Weighted</td>\n",
       "      <td>0.944419</td>\n",
       "    </tr>\n",
       "    <tr>\n",
       "      <th>4</th>\n",
       "      <td>Centroid</td>\n",
       "      <td>0.954197</td>\n",
       "    </tr>\n",
       "  </tbody>\n",
       "</table>\n",
       "</div>"
      ],
      "text/plain": [
       "    Linkage  Cophenet Coeff\n",
       "0    Single        0.902287\n",
       "1  Complete        0.899687\n",
       "2   Average        0.954197\n",
       "3  Weighted        0.944419\n",
       "4  Centroid        0.954197"
      ]
     },
     "execution_count": 5,
     "metadata": {},
     "output_type": "execute_result"
    }
   ],
   "source": [
    "df = normalize(df)\n",
    "c1,coph=cophenet(linkage(df, 'single'),pdist(df))\n",
    "c2,coph=cophenet(linkage(df, 'complete'),pdist(df))\n",
    "c3,coph=cophenet(linkage(df, 'average'),pdist(df))\n",
    "c4,coph=cophenet(linkage(df, 'weighted'),pdist(df))\n",
    "c5,coph=cophenet(linkage(df, 'centroid'),pdist(df))\n",
    "linkage=pd.DataFrame({\"Linkage\":['Single','Complete','Average','Weighted','Centroid'],\n",
    "                    \"Cophenet Coeff\":[c1,c2,c3,c4,c5]})\n",
    "linkage"
   ]
  },
  {
   "cell_type": "code",
   "execution_count": 7,
   "metadata": {},
   "outputs": [
    {
     "name": "stdout",
     "output_type": "stream",
     "text": [
      "  K Values  Silhouette index\n",
      "0        2          0.975861\n",
      "1        3          0.717708\n",
      "2        4          0.761593\n",
      "3        5          0.809102\n",
      "4        6          0.803519\n",
      "5        7          0.854616\n",
      "K value 2 is giving the optimum\n"
     ]
    }
   ],
   "source": [
    "    df=pd.read_csv('Downloads/Telegram Desktop/dataset.csv',sep=',',header=None)\n",
    "    from sklearn.cluster import AgglomerativeClustering\n",
    "    from sklearn.metrics import silhouette_score\n",
    "    db_index=[]\n",
    "    for i in range(2,8):\n",
    "        db_index.append(silhouette_score(df, AgglomerativeClustering(n_clusters=i,linkage='average',affinity='manhattan').fit(df).labels_))\n",
    "    db_index = pd.DataFrame({'K Values':['2','3','4','5','6','7'],\n",
    "                             'Silhouette index':db_index})\n",
    "    print(db_index)\n",
    "    print('K value 2 is giving the optimum')"
   ]
  },
  {
   "cell_type": "code",
   "execution_count": 8,
   "metadata": {},
   "outputs": [
    {
     "data": {
      "image/png": "[encoded data removed]",
      "text/plain": [
       "<Figure size 1080x1080 with 1 Axes>"
      ]
     },
     "metadata": {
      "needs_background": "light"
     },
     "output_type": "display_data"
    }
   ],
   "source": [
    "linked = linkage(df, 'average')\n",
    "plt.figure(figsize=(15, 15))\n",
    "dendrogram(linked)\n",
    "plt.title('Hierarchical Clustering Dendrogram (Average)', fontsize=20)\n",
    "plt.show()"
   ]
  },
  {
   "cell_type": "code",
   "execution_count": 29,
   "metadata": {},
   "outputs": [
    {
     "data": {
      "text/plain": [
       "<matplotlib.collections.PathCollection at 0x2821f19fe80>"
      ]
     },
     "execution_count": 29,
     "metadata": {},
     "output_type": "execute_result"
    },
    {
     "data": {
      "image/png": "[encoded data removed]",
      "text/plain": [
       "<Figure size 720x720 with 1 Axes>"
      ]
     },
     "metadata": {
      "needs_background": "light"
     },
     "output_type": "display_data"
    }
   ],
   "source": [
    "df=pd.read_csv('Downloads/Telegram Desktop/dataset.csv',sep=',',header=None)\n",
    "scaler = StandardScaler() \n",
    "X_scaled = scaler.fit_transform(df) \n",
    "X_normalized = normalize(X_scaled) \n",
    "X_normalized = pd.DataFrame(X_normalized) \n",
    "ac2 = AgglomerativeClustering(n_clusters=2,linkage='average',affinity='euclidean')\n",
    "plt.figure(figsize =(10, 10)) \n",
    "plt.scatter(X_normalized[0], X_normalized[1],  \n",
    "           c = ac2.fit_predict(X_normalized), cmap ='rainbow') "
   ]
  },
  {
   "cell_type": "code",
   "execution_count": null,
   "metadata": {},
   "outputs": [],
   "source": []
  }
 ],
 "metadata": {
  "kernelspec": {
   "display_name": "Python 3",
   "language": "python",
   "name": "python3"
  },
  "language_info": {
   "codemirror_mode": {
    "name": "ipython",
    "version": 3
   },
   "file_extension": ".py",
   "mimetype": "text/x-python",
   "name": "python",
   "nbconvert_exporter": "python",
   "pygments_lexer": "ipython3",
   "version": "3.6.10"
  }
 },
 "nbformat": 4,
 "nbformat_minor": 4
}