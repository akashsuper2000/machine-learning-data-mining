{
 "metadata": {
  "language_info": {
   "codemirror_mode": {
    "name": "ipython",
    "version": 3
   },
   "file_extension": ".py",
   "mimetype": "text/x-python",
   "name": "python",
   "nbconvert_exporter": "python",
   "pygments_lexer": "ipython3",
   "version": "3.7.0-final"
  },
  "orig_nbformat": 2,
  "kernelspec": {
   "name": "python_defaultSpec_1598955977777",
   "display_name": "Python 3.7.0 64-bit"
  }
 },
 "nbformat": 4,
 "nbformat_minor": 2,
 "cells": [
  {
   "cell_type": "code",
   "execution_count": 1,
   "metadata": {},
   "outputs": [],
   "source": [
    "import numpy as np\n",
    "import pandas as pd\n",
    "\n",
    "from scipy.cluster.hierarchy import dendrogram, linkage\n",
    "from matplotlib import pyplot as plt\n",
    "from sklearn.preprocessing import StandardScaler, normalize\n",
    "\n",
    "from scipy.cluster.hierarchy import single, cophenet\n",
    "from scipy.spatial.distance import pdist, squareform\n",
    "\n",
    "from sklearn.cluster import AgglomerativeClustering\n",
    "from sklearn.metrics import silhouette_score"
   ]
  },
  {
   "cell_type": "code",
   "execution_count": 2,
   "metadata": {},
   "outputs": [
    {
     "output_type": "execute_result",
     "data": {
      "text/plain": "array([[0.99014976, 0.14001231],\n       [0.99019221, 0.13971177],\n       [0.99018302, 0.13977692],\n       ...,\n       [0.98692908, 0.16115518],\n       [0.99449702, 0.10476487],\n       [0.98673464, 0.16234144]])"
     },
     "metadata": {},
     "execution_count": 2
    }
   ],
   "source": [
    "df = pd.read_csv('GPS-Dataset1.csv', header=None)\n",
    "df = df.iloc[:-1,:2]\n",
    "df = normalize(df)\n",
    "df"
   ]
  },
  {
   "cell_type": "code",
   "execution_count": 3,
   "metadata": {},
   "outputs": [
    {
     "output_type": "execute_result",
     "data": {
      "text/plain": "    Linkage  Cophenet Coeff\n0    Single        0.802681\n1  Complete        0.840010\n2   Average        0.860798\n3  Weighted        0.848959\n4  Centroid        0.860798",
      "text/html": "<div>\n<style scoped>\n    .dataframe tbody tr th:only-of-type {\n        vertical-align: middle;\n    }\n\n    .dataframe tbody tr th {\n        vertical-align: top;\n    }\n\n    .dataframe thead th {\n        text-align: right;\n    }\n</style>\n<table border=\"1\" class=\"dataframe\">\n  <thead>\n    <tr style=\"text-align: right;\">\n      <th></th>\n      <th>Linkage</th>\n      <th>Cophenet Coeff</th>\n    </tr>\n  </thead>\n  <tbody>\n    <tr>\n      <th>0</th>\n      <td>Single</td>\n      <td>0.802681</td>\n    </tr>\n    <tr>\n      <th>1</th>\n      <td>Complete</td>\n      <td>0.840010</td>\n    </tr>\n    <tr>\n      <th>2</th>\n      <td>Average</td>\n      <td>0.860798</td>\n    </tr>\n    <tr>\n      <th>3</th>\n      <td>Weighted</td>\n      <td>0.848959</td>\n    </tr>\n    <tr>\n      <th>4</th>\n      <td>Centroid</td>\n      <td>0.860798</td>\n    </tr>\n  </tbody>\n</table>\n</div>"
     },
     "metadata": {},
     "execution_count": 3
    }
   ],
   "source": [
    "c1,coph=cophenet(linkage(df, 'single'),pdist(df))\n",
    "c2,coph=cophenet(linkage(df, 'complete'),pdist(df))\n",
    "c3,coph=cophenet(linkage(df, 'average'),pdist(df))\n",
    "c4,coph=cophenet(linkage(df, 'weighted'),pdist(df))\n",
    "c5,coph=cophenet(linkage(df, 'centroid'),pdist(df))\n",
    "linkage=pd.DataFrame({\"Linkage\":['Single','Complete','Average','Weighted','Centroid'],\n",
    "                    \"Cophenet Coeff\":[c1,c2,c3,c4,c5]})\n",
    "linkage"
   ]
  },
  {
   "cell_type": "code",
   "execution_count": 4,
   "metadata": {
    "tags": []
   },
   "outputs": [
    {
     "output_type": "stream",
     "name": "stdout",
     "text": "Average linkage is the most optimal\n"
    }
   ],
   "source": [
    "print('Average linkage is the most optimal')"
   ]
  },
  {
   "cell_type": "code",
   "execution_count": 5,
   "metadata": {},
   "outputs": [
    {
     "output_type": "error",
     "ename": "TypeError",
     "evalue": "'DataFrame' object is not callable",
     "traceback": [
      "\u001b[1;31m---------------------------------------------------------------------------\u001b[0m",
      "\u001b[1;31mTypeError\u001b[0m                                 Traceback (most recent call last)",
      "\u001b[1;32m<ipython-input-5-fff7207a50fe>\u001b[0m in \u001b[0;36m<module>\u001b[1;34m\u001b[0m\n\u001b[0;32m      1\u001b[0m \u001b[0mplt\u001b[0m\u001b[1;33m.\u001b[0m\u001b[0mfigure\u001b[0m\u001b[1;33m(\u001b[0m\u001b[0mfigsize\u001b[0m\u001b[1;33m=\u001b[0m\u001b[1;33m(\u001b[0m\u001b[1;36m5\u001b[0m\u001b[1;33m,\u001b[0m \u001b[1;36m5\u001b[0m\u001b[1;33m)\u001b[0m\u001b[1;33m)\u001b[0m\u001b[1;33m\u001b[0m\u001b[0m\n\u001b[1;32m----> 2\u001b[1;33m \u001b[0mdendrogram\u001b[0m\u001b[1;33m(\u001b[0m\u001b[0mlinkage\u001b[0m\u001b[1;33m(\u001b[0m\u001b[0mdf\u001b[0m\u001b[1;33m,\u001b[0m \u001b[1;34m'average'\u001b[0m\u001b[1;33m)\u001b[0m\u001b[1;33m)\u001b[0m\u001b[1;33m\u001b[0m\u001b[0m\n\u001b[0m\u001b[0;32m      3\u001b[0m \u001b[0mplt\u001b[0m\u001b[1;33m.\u001b[0m\u001b[0mtitle\u001b[0m\u001b[1;33m(\u001b[0m\u001b[1;34m'Hierarchical Clustering Dendrogram (Average)'\u001b[0m\u001b[1;33m,\u001b[0m \u001b[0mfontsize\u001b[0m\u001b[1;33m=\u001b[0m\u001b[1;36m20\u001b[0m\u001b[1;33m)\u001b[0m\u001b[1;33m\u001b[0m\u001b[0m\n\u001b[0;32m      4\u001b[0m \u001b[0mplt\u001b[0m\u001b[1;33m.\u001b[0m\u001b[0mshow\u001b[0m\u001b[1;33m(\u001b[0m\u001b[1;33m)\u001b[0m\u001b[1;33m\u001b[0m\u001b[0m\n",
      "\u001b[1;31mTypeError\u001b[0m: 'DataFrame' object is not callable"
     ]
    }
   ],
   "source": [
    "plt.figure(figsize=(5, 5))\n",
    "dendrogram(linkage(df, 'average'))\n",
    "plt.title('Hierarchical Clustering Dendrogram (Average)', fontsize=20)\n",
    "plt.show()"
   ]
  },
  {
   "cell_type": "code",
   "execution_count": null,
   "metadata": {
    "tags": []
   },
   "outputs": [],
   "source": [
    "db_index=[]\n",
    "for i in range(2,8):\n",
    "    db_index.append(silhouette_score(df, AgglomerativeClustering(n_clusters=i, linkage='average', affinity='euclidean').fit(df).labels_))\n",
    "db_index = pd.DataFrame({'K Values':['2','3','4','5','6','7'],\n",
    "                         'Silhouette index':db_index})\n",
    "print(db_index)"
   ]
  },
  {
   "cell_type": "code",
   "execution_count": null,
   "metadata": {
    "tags": []
   },
   "outputs": [],
   "source": [
    "print('Optimal number of clusters is 3')"
   ]
  },
  {
   "cell_type": "code",
   "execution_count": null,
   "metadata": {},
   "outputs": [],
   "source": [
    "scaler = StandardScaler() \n",
    "X_scaled = scaler.fit_transform(df) \n",
    "X_normalized = normalize(X_scaled) \n",
    "X_normalized = pd.DataFrame(X_normalized) \n",
    "ac2 = AgglomerativeClustering(n_clusters=2,linkage='average',affinity='euclidean')\n",
    "plt.figure(figsize =(10, 10)) \n",
    "plt.scatter(X_normalized[0], X_normalized[1],  \n",
    "           c = ac2.fit_predict(X_normalized), cmap ='rainbow') \n",
    "plt.show()"
   ]
  },
  {
   "cell_type": "code",
   "execution_count": null,
   "metadata": {},
   "outputs": [],
   "source": []
  }
 ]
}